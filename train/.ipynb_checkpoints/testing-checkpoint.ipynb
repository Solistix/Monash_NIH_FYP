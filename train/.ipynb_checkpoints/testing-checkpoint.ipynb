{
 "cells": [
  {
   "cell_type": "code",
   "execution_count": 3,
   "metadata": {},
   "outputs": [
    {
     "ename": "FileNotFoundError",
     "evalue": "[Errno 2] No such file or directory: '../results/basic/basic_16.pth'",
     "output_type": "error",
     "traceback": [
      "\u001b[0;31m---------------------------------------------------------------------------\u001b[0m",
      "\u001b[0;31mFileNotFoundError\u001b[0m                         Traceback (most recent call last)",
      "\u001b[0;32m<ipython-input-3-1d848daa70e6>\u001b[0m in \u001b[0;36m<module>\u001b[0;34m()\u001b[0m\n\u001b[1;32m     83\u001b[0m \u001b[0;34m\u001b[0m\u001b[0m\n\u001b[1;32m     84\u001b[0m \u001b[0;32mif\u001b[0m \u001b[0m__name__\u001b[0m \u001b[0;34m==\u001b[0m \u001b[0;34m'__main__'\u001b[0m\u001b[0;34m:\u001b[0m\u001b[0;34m\u001b[0m\u001b[0m\n\u001b[0;32m---> 85\u001b[0;31m     \u001b[0mmain\u001b[0m\u001b[0;34m(\u001b[0m\u001b[0;34m)\u001b[0m\u001b[0;34m\u001b[0m\u001b[0m\n\u001b[0m",
      "\u001b[0;32m<ipython-input-3-1d848daa70e6>\u001b[0m in \u001b[0;36mmain\u001b[0;34m()\u001b[0m\n\u001b[1;32m     21\u001b[0m     \u001b[0;31m# Load in model\u001b[0m\u001b[0;34m\u001b[0m\u001b[0;34m\u001b[0m\u001b[0m\n\u001b[1;32m     22\u001b[0m     \u001b[0mmodel\u001b[0m \u001b[0;34m=\u001b[0m \u001b[0mCosineSimilarityNet\u001b[0m\u001b[0;34m(\u001b[0m\u001b[0mn_way\u001b[0m\u001b[0;34m)\u001b[0m\u001b[0;34m.\u001b[0m\u001b[0mto\u001b[0m\u001b[0;34m(\u001b[0m\u001b[0mdevice\u001b[0m\u001b[0;34m)\u001b[0m\u001b[0;34m\u001b[0m\u001b[0m\n\u001b[0;32m---> 23\u001b[0;31m     \u001b[0mpretrained_dict\u001b[0m \u001b[0;34m=\u001b[0m \u001b[0mtorch\u001b[0m\u001b[0;34m.\u001b[0m\u001b[0mload\u001b[0m\u001b[0;34m(\u001b[0m\u001b[0mpath_pretrained\u001b[0m\u001b[0;34m)\u001b[0m\u001b[0;34m\u001b[0m\u001b[0m\n\u001b[0m\u001b[1;32m     24\u001b[0m     \u001b[0;32mdel\u001b[0m \u001b[0mpretrained_dict\u001b[0m\u001b[0;34m[\u001b[0m\u001b[0;34m'linear.weight'\u001b[0m\u001b[0;34m]\u001b[0m  \u001b[0;31m# Remove the last layer\u001b[0m\u001b[0;34m\u001b[0m\u001b[0m\n\u001b[1;32m     25\u001b[0m     \u001b[0;32mdel\u001b[0m \u001b[0mpretrained_dict\u001b[0m\u001b[0;34m[\u001b[0m\u001b[0;34m'linear.bias'\u001b[0m\u001b[0;34m]\u001b[0m\u001b[0;34m\u001b[0m\u001b[0m\n",
      "\u001b[0;32m/home/ilu3/destinationPath/lib/python3.6/site-packages/torch/serialization.py\u001b[0m in \u001b[0;36mload\u001b[0;34m(f, map_location, pickle_module, **pickle_load_args)\u001b[0m\n\u001b[1;32m    569\u001b[0m         \u001b[0mpickle_load_args\u001b[0m\u001b[0;34m[\u001b[0m\u001b[0;34m'encoding'\u001b[0m\u001b[0;34m]\u001b[0m \u001b[0;34m=\u001b[0m \u001b[0;34m'utf-8'\u001b[0m\u001b[0;34m\u001b[0m\u001b[0m\n\u001b[1;32m    570\u001b[0m \u001b[0;34m\u001b[0m\u001b[0m\n\u001b[0;32m--> 571\u001b[0;31m     \u001b[0;32mwith\u001b[0m \u001b[0m_open_file_like\u001b[0m\u001b[0;34m(\u001b[0m\u001b[0mf\u001b[0m\u001b[0;34m,\u001b[0m \u001b[0;34m'rb'\u001b[0m\u001b[0;34m)\u001b[0m \u001b[0;32mas\u001b[0m \u001b[0mopened_file\u001b[0m\u001b[0;34m:\u001b[0m\u001b[0;34m\u001b[0m\u001b[0m\n\u001b[0m\u001b[1;32m    572\u001b[0m         \u001b[0;32mif\u001b[0m \u001b[0m_is_zipfile\u001b[0m\u001b[0;34m(\u001b[0m\u001b[0mopened_file\u001b[0m\u001b[0;34m)\u001b[0m\u001b[0;34m:\u001b[0m\u001b[0;34m\u001b[0m\u001b[0m\n\u001b[1;32m    573\u001b[0m             \u001b[0;31m# The zipfile reader is going to advance the current file position.\u001b[0m\u001b[0;34m\u001b[0m\u001b[0;34m\u001b[0m\u001b[0m\n",
      "\u001b[0;32m/home/ilu3/destinationPath/lib/python3.6/site-packages/torch/serialization.py\u001b[0m in \u001b[0;36m_open_file_like\u001b[0;34m(name_or_buffer, mode)\u001b[0m\n\u001b[1;32m    227\u001b[0m \u001b[0;32mdef\u001b[0m \u001b[0m_open_file_like\u001b[0m\u001b[0;34m(\u001b[0m\u001b[0mname_or_buffer\u001b[0m\u001b[0;34m,\u001b[0m \u001b[0mmode\u001b[0m\u001b[0;34m)\u001b[0m\u001b[0;34m:\u001b[0m\u001b[0;34m\u001b[0m\u001b[0m\n\u001b[1;32m    228\u001b[0m     \u001b[0;32mif\u001b[0m \u001b[0m_is_path\u001b[0m\u001b[0;34m(\u001b[0m\u001b[0mname_or_buffer\u001b[0m\u001b[0;34m)\u001b[0m\u001b[0;34m:\u001b[0m\u001b[0;34m\u001b[0m\u001b[0m\n\u001b[0;32m--> 229\u001b[0;31m         \u001b[0;32mreturn\u001b[0m \u001b[0m_open_file\u001b[0m\u001b[0;34m(\u001b[0m\u001b[0mname_or_buffer\u001b[0m\u001b[0;34m,\u001b[0m \u001b[0mmode\u001b[0m\u001b[0;34m)\u001b[0m\u001b[0;34m\u001b[0m\u001b[0m\n\u001b[0m\u001b[1;32m    230\u001b[0m     \u001b[0;32melse\u001b[0m\u001b[0;34m:\u001b[0m\u001b[0;34m\u001b[0m\u001b[0m\n\u001b[1;32m    231\u001b[0m         \u001b[0;32mif\u001b[0m \u001b[0;34m'w'\u001b[0m \u001b[0;32min\u001b[0m \u001b[0mmode\u001b[0m\u001b[0;34m:\u001b[0m\u001b[0;34m\u001b[0m\u001b[0m\n",
      "\u001b[0;32m/home/ilu3/destinationPath/lib/python3.6/site-packages/torch/serialization.py\u001b[0m in \u001b[0;36m__init__\u001b[0;34m(self, name, mode)\u001b[0m\n\u001b[1;32m    208\u001b[0m \u001b[0;32mclass\u001b[0m \u001b[0m_open_file\u001b[0m\u001b[0;34m(\u001b[0m\u001b[0m_opener\u001b[0m\u001b[0;34m)\u001b[0m\u001b[0;34m:\u001b[0m\u001b[0;34m\u001b[0m\u001b[0m\n\u001b[1;32m    209\u001b[0m     \u001b[0;32mdef\u001b[0m \u001b[0m__init__\u001b[0m\u001b[0;34m(\u001b[0m\u001b[0mself\u001b[0m\u001b[0;34m,\u001b[0m \u001b[0mname\u001b[0m\u001b[0;34m,\u001b[0m \u001b[0mmode\u001b[0m\u001b[0;34m)\u001b[0m\u001b[0;34m:\u001b[0m\u001b[0;34m\u001b[0m\u001b[0m\n\u001b[0;32m--> 210\u001b[0;31m         \u001b[0msuper\u001b[0m\u001b[0;34m(\u001b[0m\u001b[0m_open_file\u001b[0m\u001b[0;34m,\u001b[0m \u001b[0mself\u001b[0m\u001b[0;34m)\u001b[0m\u001b[0;34m.\u001b[0m\u001b[0m__init__\u001b[0m\u001b[0;34m(\u001b[0m\u001b[0mopen\u001b[0m\u001b[0;34m(\u001b[0m\u001b[0mname\u001b[0m\u001b[0;34m,\u001b[0m \u001b[0mmode\u001b[0m\u001b[0;34m)\u001b[0m\u001b[0;34m)\u001b[0m\u001b[0;34m\u001b[0m\u001b[0m\n\u001b[0m\u001b[1;32m    211\u001b[0m \u001b[0;34m\u001b[0m\u001b[0m\n\u001b[1;32m    212\u001b[0m     \u001b[0;32mdef\u001b[0m \u001b[0m__exit__\u001b[0m\u001b[0;34m(\u001b[0m\u001b[0mself\u001b[0m\u001b[0;34m,\u001b[0m \u001b[0;34m*\u001b[0m\u001b[0margs\u001b[0m\u001b[0;34m)\u001b[0m\u001b[0;34m:\u001b[0m\u001b[0;34m\u001b[0m\u001b[0m\n",
      "\u001b[0;31mFileNotFoundError\u001b[0m: [Errno 2] No such file or directory: '../results/basic/basic_16.pth'"
     ]
    }
   ],
   "source": [
    "from basic_train import *\n",
    "\n",
    "\n",
    "def main():\n",
    "    # Set Training Parameters\n",
    "    num_workers = 12\n",
    "    bs = 64\n",
    "    n_way = 3\n",
    "    path_pretrained = '../results/basic/basic_16.pth'\n",
    "    save_models = False  # Whether to save the trained models (Occurs every epoch)\n",
    "    k_shot = 20  # Must have the generated split to match it\n",
    "\n",
    "    path_splits = f'../splits/{k_shot}_shot.csv'  # Location of preprocessed splits\n",
    "    #path_results = f'../../results/{k_shot}shot_cosine.csv'  # Full path to save the CSV results\n",
    "    #path_models = f'../../models/cosine_similarity/{k_shot}_shot'  # Folder path to save the trained models to\n",
    "\n",
    "    torch.cuda.set_device(0)\n",
    "    device = torch.device(\"cuda:0\" if torch.cuda.is_available() else \"cpu\")\n",
    "    criterion = nn.CrossEntropyLoss()\n",
    "    \n",
    "    # Load in model\n",
    "    model = CosineSimilarityNet(n_way).to(device)\n",
    "    pretrained_dict = torch.load(path_pretrained)\n",
    "    del pretrained_dict['linear.weight']  # Remove the last layer\n",
    "    del pretrained_dict['linear.bias']\n",
    "    #del pretrained_dict['cos_sim.weight']\n",
    "    model_dict = model.state_dict()\n",
    "    model_dict.update(pretrained_dict)\n",
    "    model.load_state_dict(model_dict)\n",
    "\n",
    "    # Load in data\n",
    "    train_dataset = MimicCxrJpg(root='../../../../scratch/rl80/mimic-cxr-jpg-2.0.0.physionet.org/files/',\n",
    "                                csv_path=path_splits, mode='novel_train', resize=224)\n",
    "    test_dataset = MimicCxrJpg(root='../../../../scratch/rl80/mimic-cxr-jpg-2.0.0.physionet.org/files/',\n",
    "                               csv_path=path_splits, mode='novel_validate', resize=224)\n",
    "    train_loader = DataLoader(train_dataset, batch_size=bs, shuffle=True, num_workers=num_workers)\n",
    "    test_loader = DataLoader(test_dataset, batch_size=bs, shuffle=True, num_workers=num_workers)\n",
    "\n",
    "    # Create Dataframe to export results to CSV\n",
    "    df_results = pd.DataFrame(columns=['Epoch', 'Validation Loss', 'Accuracy', 'Macro Accuracy',\n",
    "                                       'Macro-F1 Score'] + [str(x) + ' F1' for x in range(n_way)])\n",
    "    \n",
    "    # Find Average Features\n",
    "    label_features = [torch.FloatTensor([]).to(device) for i in range(n_way)]\n",
    "    model.eval()\n",
    "    fc_weight = torch.FloatTensor([]).to(device) # Initialise weight for the nearest centroid, last layer weight\n",
    "    with torch.no_grad():\n",
    "        for step, (data_inputs, data_labels) in enumerate(train_loader):\n",
    "            # Get Features\n",
    "            inputs, labels = data_inputs.to(device), data_labels.to(device)\n",
    "            _, features = model(inputs, extract_features=True)\n",
    "            \n",
    "            # Sort features into labels\n",
    "            for i in range(features.size(0)):\n",
    "                label = labels[i]\n",
    "                label_features[label] = torch.cat((label_features[label], features[i][None]))\n",
    "        \n",
    "        # Create weight for the last layer\n",
    "        for j in range(n_way):\n",
    "            feature_avg = torch.mean(label_features[j], 0)\n",
    "            fc_weight = torch.cat((fc_weight, feature_avg[None]), 0)\n",
    "            \n",
    "        # Apply weight to the model\n",
    "        nc_dict = model.state_dict()\n",
    "        print(nc_dict['cos_sim.weight'])\n",
    "        nc_dict['cos_sim.weight'] = fc_weight\n",
    "        print(nc_dict['cos_sim.weight'])\n",
    "        #print(nc_dict['cos_sim.weight'].size())\n",
    "        #print(fc_weight)\n",
    "        model.load_state_dict(nc_dict)\n",
    "        \n",
    "    # Testing\n",
    "    val_loss, acc, m_acc, macro_f1, class_f1 = test(model, test_loader, criterion, device, n_way)\n",
    "\n",
    "    if (save_models):\n",
    "        torch.save(model.state_dict(), os.path.join(path_models, f'cosine_{epoch + 1}.pth'))  # Save the model\n",
    "\n",
    "    # Append and report results\n",
    "    #df_results.loc[epoch] = [val_loss, acc, m_acc, macro_f1] + class_f1\n",
    "    print(f'v_loss: {val_loss:.5f} val_acc: {acc:.5f} val_m_acc: {m_acc:.5f} f1: {macro_f1:.5f}')\n",
    "\n",
    "    #df_results.to_csv(path_results, index=False)  # Export results to a CSV file\n",
    "\n",
    "if __name__ == '__main__':\n",
    "    main()\n"
   ]
  },
  {
   "cell_type": "code",
   "execution_count": 11,
   "metadata": {},
   "outputs": [
    {
     "name": "stdout",
     "output_type": "stream",
     "text": [
      "epoch: 51 v_loss: 1.08188 val_acc: 0.45444 val_m_acc: 0.45444 f1: 0.43041\n",
      "epoch: 52 v_loss: 1.07927 val_acc: 0.44778 val_m_acc: 0.44778 f1: 0.42759\n",
      "epoch: 53 v_loss: 1.08966 val_acc: 0.45000 val_m_acc: 0.45000 f1: 0.43874\n",
      "epoch: 54 v_loss: 1.08132 val_acc: 0.43111 val_m_acc: 0.43111 f1: 0.40956\n",
      "epoch: 55 v_loss: 1.08186 val_acc: 0.45556 val_m_acc: 0.45556 f1: 0.42568\n",
      "epoch: 56 v_loss: 1.08589 val_acc: 0.43556 val_m_acc: 0.43556 f1: 0.41955\n",
      "epoch: 57 v_loss: 1.08452 val_acc: 0.45556 val_m_acc: 0.45556 f1: 0.44192\n",
      "epoch: 58 v_loss: 1.08002 val_acc: 0.44778 val_m_acc: 0.44778 f1: 0.42080\n",
      "epoch: 59 v_loss: 1.08148 val_acc: 0.43556 val_m_acc: 0.43556 f1: 0.40781\n",
      "epoch: 60 v_loss: 1.08330 val_acc: 0.44333 val_m_acc: 0.44333 f1: 0.41778\n"
     ]
    }
   ],
   "source": [
    "from basic_train import *\n",
    "\n",
    "\n",
    "def main():\n",
    "    for stuff in range(51,61):\n",
    "        # Set Training Parameters\n",
    "        num_workers = 12\n",
    "        bs = 64\n",
    "        n_way = 3\n",
    "        path_pretrained = f'../results/basic_cosine/basic_cosine_{stuff}.pth'\n",
    "        save_models = False  # Whether to save the trained models (Occurs every epoch)\n",
    "        k_shot = 20  # Must have the generated split to match it\n",
    "\n",
    "        path_splits = f'../splits/{k_shot}_shot.csv'  # Location of preprocessed splits\n",
    "        #path_results = f'../../results/{k_shot}shot_cosine.csv'  # Full path to save the CSV results\n",
    "        #path_models = f'../../models/cosine_similarity/{k_shot}_shot'  # Folder path to save the trained models to\n",
    "\n",
    "        torch.cuda.set_device(0)\n",
    "        device = torch.device(\"cuda:0\" if torch.cuda.is_available() else \"cpu\")\n",
    "        criterion = nn.CrossEntropyLoss()\n",
    "\n",
    "        # Load in model\n",
    "        model = CosineSimilarityNet(n_way).to(device)\n",
    "        pretrained_dict = torch.load(path_pretrained)\n",
    "        #del pretrained_dict['linear.weight']  # Remove the last layer\n",
    "        #del pretrained_dict['linear.bias']\n",
    "        del pretrained_dict['cos_sim.weight']\n",
    "        model_dict = model.state_dict()\n",
    "        model_dict.update(pretrained_dict)\n",
    "        model.load_state_dict(model_dict)\n",
    "\n",
    "        # Load in data\n",
    "        train_dataset = MimicCxrJpg(root='../../../../scratch/rl80/mimic-cxr-jpg-2.0.0.physionet.org/files/',\n",
    "                                    csv_path=path_splits, mode='novel_train', resize=224)\n",
    "        test_dataset = MimicCxrJpg(root='../../../../scratch/rl80/mimic-cxr-jpg-2.0.0.physionet.org/files/',\n",
    "                                   csv_path=path_splits, mode='novel_validate', resize=224)\n",
    "        train_loader = DataLoader(train_dataset, batch_size=bs, shuffle=True, num_workers=num_workers)\n",
    "        test_loader = DataLoader(test_dataset, batch_size=bs, shuffle=True, num_workers=num_workers)\n",
    "\n",
    "        # Create Dataframe to export results to CSV\n",
    "        df_results = pd.DataFrame(columns=['Epoch', 'Validation Loss', 'Accuracy', 'Macro Accuracy',\n",
    "                                           'Macro-F1 Score'] + [str(x) + ' F1' for x in range(n_way)])\n",
    "\n",
    "        # Find Average Features\n",
    "        label_features = [torch.FloatTensor([]).to(device) for i in range(n_way)]\n",
    "        model.eval()\n",
    "        fc_weight = torch.FloatTensor([]).to(device) # Initialise weight for the nearest centroid, last layer weight\n",
    "        with torch.no_grad():\n",
    "            for step, (data_inputs, data_labels) in enumerate(train_loader):\n",
    "                # Get Features\n",
    "                inputs, labels = data_inputs.to(device), data_labels.to(device)\n",
    "                _, features = model(inputs, extract_features=True)\n",
    "\n",
    "                # Sort features into labels\n",
    "                for i in range(features.size(0)):\n",
    "                    label = labels[i]\n",
    "                    label_features[label] = torch.cat((label_features[label], features[i][None]))\n",
    "\n",
    "            # Create weight for the last layer\n",
    "            #print(label_features[0].size())\n",
    "            for j in range(n_way):\n",
    "                feature_avg = torch.mean(label_features[j], 0)\n",
    "                #print(feature_avg.size())\n",
    "                fc_weight = torch.cat((fc_weight, feature_avg[None]), 0)\n",
    "\n",
    "            # Apply weight to the model\n",
    "            nc_dict = model.state_dict()\n",
    "            #print(nc_dict['cos_sim.weight'])\n",
    "            nc_dict['cos_sim.weight'] = fc_weight\n",
    "            #print(nc_dict['cos_sim.weight'])\n",
    "            #print(nc_dict['cos_sim.weight'].size())\n",
    "            #print(fc_weight)\n",
    "            model.load_state_dict(nc_dict)\n",
    "\n",
    "        # Testing\n",
    "        val_loss, acc, m_acc, macro_f1, class_f1 = test(model, test_loader, criterion, device, n_way)\n",
    "\n",
    "        if (save_models):\n",
    "            torch.save(model.state_dict(), os.path.join(path_models, f'cosine_{epoch + 1}.pth'))  # Save the model\n",
    "\n",
    "        # Append and report results\n",
    "        #df_results.loc[epoch] = [val_loss, acc, m_acc, macro_f1] + class_f1\n",
    "        print(f'epoch: {stuff} v_loss: {val_loss:.5f} val_acc: {acc:.5f} val_m_acc: {m_acc:.5f} f1: {macro_f1:.5f}')\n",
    "\n",
    "        #df_results.to_csv(path_results, index=False)  # Export results to a CSV file\n",
    "\n",
    "if __name__ == '__main__':\n",
    "    main()\n"
   ]
  },
  {
   "cell_type": "code",
   "execution_count": 25,
   "metadata": {},
   "outputs": [
    {
     "data": {
      "text/plain": [
       "tensor([[1., 1., 1., 1.],\n",
       "        [1., 1., 1., 1.],\n",
       "        [1., 1., 1., 1.],\n",
       "        [1., 1., 1., 1.],\n",
       "        [1., 1., 1., 1.],\n",
       "        [1., 1., 1., 1.],\n",
       "        [1., 1., 1., 1.]])"
      ]
     },
     "execution_count": 25,
     "metadata": {},
     "output_type": "execute_result"
    }
   ],
   "source": [
    "label = 1\n",
    "test = torch.cat((test, bruh[None]))\n",
    "test"
   ]
  },
  {
   "cell_type": "code",
   "execution_count": 16,
   "metadata": {},
   "outputs": [
    {
     "data": {
      "text/plain": [
       "<All keys matched successfully>"
      ]
     },
     "execution_count": 16,
     "metadata": {},
     "output_type": "execute_result"
    }
   ],
   "source": [
    "from basic_train import *\n",
    "\n",
    "# Set Training Parameters\n",
    "num_epochs = 100\n",
    "num_workers = 12\n",
    "bs = 64\n",
    "n_way = 3\n",
    "path_pretrained = '../results/basic_cosine/basic_cosine_58.pth'\n",
    "save_models = False  # Whether to save the trained models (Occurs every epoch)\n",
    "freeze = ['cos_sim.weight']  # Freeze all layers except linear layers\n",
    "k_shot = 20  # Must have the generated split to match it\n",
    "\n",
    "path_splits = f'../splits/{k_shot}_shot.csv'  # Location of preprocessed splits\n",
    "path_results = f'../../results/{k_shot}shot_cosine.csv'  # Full path to save the CSV results\n",
    "path_models = f'../../models/cosine_similarity/{k_shot}_shot'  # Folder path to save the trained models to\n",
    "\n",
    "torch.cuda.set_device(0)\n",
    "device = torch.device(\"cuda:0\" if torch.cuda.is_available() else \"cpu\")\n",
    "\n",
    "# Load in model\n",
    "model = BaselineNet(n_way).to(device)\n",
    "pretrained_dict = torch.load(path_pretrained)\n",
    "del pretrained_dict['cos_sim.weight']  # Remove the last layer\n",
    "model_dict = model.state_dict()\n",
    "model_dict.update(pretrained_dict)\n",
    "model.load_state_dict(model_dict)"
   ]
  },
  {
   "cell_type": "code",
   "execution_count": 25,
   "metadata": {},
   "outputs": [
    {
     "name": "stdout",
     "output_type": "stream",
     "text": [
      "torch.Size([64, 1, 3, 3])\n",
      "torch.Size([64])\n",
      "torch.Size([64])\n",
      "torch.Size([64])\n",
      "torch.Size([64, 64, 3, 3])\n",
      "torch.Size([64])\n",
      "torch.Size([64])\n",
      "torch.Size([64])\n",
      "torch.Size([64, 64, 3, 3])\n",
      "torch.Size([64])\n",
      "torch.Size([64])\n",
      "torch.Size([64])\n",
      "torch.Size([64, 64, 3, 3])\n",
      "torch.Size([64])\n",
      "torch.Size([64])\n",
      "torch.Size([64])\n",
      "torch.Size([3, 12544])\n",
      "torch.Size([3])\n"
     ]
    }
   ],
   "source": [
    "for name, param in model.namedparameters():\n",
    "    print(param.size())"
   ]
  },
  {
   "cell_type": "code",
   "execution_count": 5,
   "metadata": {},
   "outputs": [
    {
     "name": "stdout",
     "output_type": "stream",
     "text": [
      "9\n",
      "10\n",
      "11\n",
      "12\n",
      "13\n",
      "14\n",
      "15\n"
     ]
    }
   ],
   "source": [
    "for i in range(9,17):\n",
    "    print(i)"
   ]
  },
  {
   "cell_type": "code",
   "execution_count": 10,
   "metadata": {},
   "outputs": [
    {
     "data": {
      "text/plain": [
       "True"
      ]
     },
     "execution_count": 10,
     "metadata": {},
     "output_type": "execute_result"
    }
   ],
   "source": [
    "1e-4 == 0.0001"
   ]
  },
  {
   "cell_type": "code",
   "execution_count": null,
   "metadata": {},
   "outputs": [],
   "source": [
    "    # Testing\n",
    "    for epoch in range(num_epochs):\n",
    "        # train_loss = train(model, train_loader, criterion, device, optimizer, freeze=freeze)\n",
    "        val_loss, acc, m_acc, macro_f1, class_f1 = test(model, test_loader, criterion, device, n_way)\n",
    "\n",
    "        if (save_models):\n",
    "            torch.save(model.state_dict(), os.path.join(path_models, f'cosine_{epoch + 1}.pth'))  # Save the model\n",
    "\n",
    "        # Append and report results\n",
    "        df_results.loc[epoch] = [epoch + 1, train_loss, val_loss, acc, m_acc, macro_f1] + class_f1\n",
    "        print(\n",
    "            f'[{epoch + 1}] t_loss: {train_loss:.5f} v_loss: {val_loss:.5f} val_acc: {acc:.5f} '\n",
    "            f'val_m_acc: {m_acc:.5f} f1: {macro_f1:.5f}')\n",
    "\n",
    "    #df_results.to_csv(path_results, index=False)  # Export results to a CSV file"
   ]
  }
 ],
 "metadata": {
  "kernelspec": {
   "display_name": "Python 3",
   "language": "python",
   "name": "python3"
  },
  "language_info": {
   "codemirror_mode": {
    "name": "ipython",
    "version": 3
   },
   "file_extension": ".py",
   "mimetype": "text/x-python",
   "name": "python",
   "nbconvert_exporter": "python",
   "pygments_lexer": "ipython3",
   "version": "3.6.2"
  }
 },
 "nbformat": 4,
 "nbformat_minor": 1
}
