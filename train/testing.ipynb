{
 "cells": [
  {
   "cell_type": "code",
   "execution_count": 32,
   "metadata": {},
   "outputs": [
    {
     "name": "stdout",
     "output_type": "stream",
     "text": [
      "The layers that will not be frozen are: ['cos_sim.weight']\n",
      "[1] t_loss: 1.09875 v_loss: 1.09927 val_acc: 0.30778 val_m_acc: 0.30778 f1: 0.24146\n",
      "[2] t_loss: 1.09673 v_loss: 1.09984 val_acc: 0.31778 val_m_acc: 0.31778 f1: 0.24155\n"
     ]
    }
   ],
   "source": [
    "from basic_train import *\n",
    "\n",
    "\n",
    "def main():\n",
    "    # Set Training Parameters\n",
    "    num_epochs = 2\n",
    "    num_workers = 12\n",
    "    bs = 64\n",
    "    n_way = 3\n",
    "    path_pretrained = '../results/basic/basic_16.pth'\n",
    "    save_models = True  # Whether to save the trained models (Occurs every epoch)\n",
    "    freeze = ['cos_sim.weight']  # Freeze all layers except linear layers\n",
    "    k_shot = 20 # Must have the generated split to match it\n",
    "    \n",
    "    path_splits = f'../splits/{k_shot}_shot.csv'  # Location of preprocessed splits\n",
    "    path_results = f'../../results/{k_shot}shot_cosine.csv'  # Full path to save the CSV results\n",
    "    path_models = f'../../models/cosine_similarity/{k_shot}_shot'  # Folder path to save the trained models to\n",
    "    \n",
    "    torch.cuda.set_device(0)\n",
    "    device = torch.device(\"cuda:0\" if torch.cuda.is_available() else \"cpu\")\n",
    "\n",
    "    # Load in model\n",
    "    model = CosineSimilarityNet(n_way).to(device)\n",
    "    pretrained_dict = torch.load(path_pretrained)\n",
    "    del pretrained_dict['linear.weight']  # Remove the last linear layer\n",
    "    del pretrained_dict['linear.bias']\n",
    "    model_dict = model.state_dict()\n",
    "    model_dict.update(pretrained_dict)\n",
    "    model.load_state_dict(model_dict)\n",
    "\n",
    "    optimizer = optim.Adam(model.parameters(), lr=0.0001)\n",
    "    criterion = nn.CrossEntropyLoss()\n",
    "    \n",
    "    # Check if the layers to be unfrozen are in the model\n",
    "    if type(freeze) != bool:\n",
    "        check = all(item in model_dict for item in freeze)\n",
    "        if check:\n",
    "            print(f'The layers that will not be frozen are: {freeze}')\n",
    "        else: \n",
    "            raise Exception('Not all elements to stay unfrozen are in the model')\n",
    "        \n",
    "    # Load in data\n",
    "    train_dataset = MimicCxrJpg(root='../../../../scratch/rl80/mimic-cxr-jpg-2.0.0.physionet.org/files/',\n",
    "                                csv_path=path_splits, mode='novel_train', resize=224)\n",
    "    test_dataset = MimicCxrJpg(root='../../../../scratch/rl80/mimic-cxr-jpg-2.0.0.physionet.org/files/',\n",
    "                               csv_path=path_splits, mode='novel_validate', resize=224)\n",
    "    train_loader = DataLoader(train_dataset, batch_size=bs, shuffle=True, num_workers=num_workers)\n",
    "    test_loader = DataLoader(test_dataset, batch_size=bs, shuffle=True, num_workers=num_workers)\n",
    "\n",
    "    # Create Dataframe to export results to CSV\n",
    "    df_results = pd.DataFrame(columns=['Epoch', 'Training Loss', 'Validation Loss', 'Accuracy', 'Macro Accuracy',\n",
    "                                       'Macro-F1 Score'] + [str(x) + ' F1' for x in range(n_way)])\n",
    "\n",
    "    # Training Loop\n",
    "    for epoch in range(num_epochs):\n",
    "        train_loss = train(model, train_loader, criterion, device, optimizer, freeze=freeze)\n",
    "        val_loss, acc, m_acc, macro_f1, class_f1 = test(model, test_loader, criterion, device, n_way)\n",
    "\n",
    "        if (save_models):\n",
    "            torch.save(model.state_dict(), os.path.join(path_models, f'cosine_{epoch + 1}.pth'))  # Save the model\n",
    "\n",
    "        # Append and report results\n",
    "        df_results.loc[epoch] = [epoch + 1, train_loss, val_loss, acc, m_acc, macro_f1] + class_f1\n",
    "        print(\n",
    "            f'[{epoch + 1}] t_loss: {train_loss:.5f} v_loss: {val_loss:.5f} val_acc: {acc:.5f} '\n",
    "            f'val_m_acc: {m_acc:.5f} f1: {macro_f1:.5f}')\n",
    "\n",
    "    df_results.to_csv(path_results, index=False)  # Export results to a CSV file\n",
    "\n",
    "\n",
    "if __name__ == '__main__':\n",
    "    main()\n"
   ]
  },
  {
   "cell_type": "code",
   "execution_count": 26,
   "metadata": {},
   "outputs": [
    {
     "data": {
      "text/plain": [
       "<All keys matched successfully>"
      ]
     },
     "execution_count": 26,
     "metadata": {},
     "output_type": "execute_result"
    }
   ],
   "source": []
  },
  {
   "cell_type": "code",
   "execution_count": 31,
   "metadata": {},
   "outputs": [
    {
     "name": "stdout",
     "output_type": "stream",
     "text": [
      "The layers that will not be frozen are: ['cos_sim.weight']\n"
     ]
    }
   ],
   "source": [
    "freeze=['cos_sim.weight']\n",
    "if type(freeze) != bool:\n",
    "    check = all(item in model_dict for item in freeze)\n",
    "    if check:\n",
    "        print(f'The layers that will not be frozen are: {freeze}')\n",
    "    else: \n",
    "        raise Exception('Not all elements to stay unfrozen are in the model')"
   ]
  },
  {
   "cell_type": "code",
   "execution_count": null,
   "metadata": {},
   "outputs": [],
   "source": []
  },
  {
   "cell_type": "code",
   "execution_count": null,
   "metadata": {},
   "outputs": [],
   "source": []
  }
 ],
 "metadata": {
  "kernelspec": {
   "display_name": "Python 3",
   "language": "python",
   "name": "python3"
  },
  "language_info": {
   "codemirror_mode": {
    "name": "ipython",
    "version": 3
   },
   "file_extension": ".py",
   "mimetype": "text/x-python",
   "name": "python",
   "nbconvert_exporter": "python",
   "pygments_lexer": "ipython3",
   "version": "3.6.2"
  }
 },
 "nbformat": 4,
 "nbformat_minor": 1
}
