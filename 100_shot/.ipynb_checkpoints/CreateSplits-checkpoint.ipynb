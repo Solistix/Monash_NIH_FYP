{
 "cells": [
  {
   "cell_type": "code",
   "execution_count": 1,
   "metadata": {},
   "outputs": [],
   "source": [
    "import sys\n",
    "sys.path.append('..')\n",
    "from scripts.split_scripts import *"
   ]
  },
  {
   "cell_type": "code",
   "execution_count": 2,
   "metadata": {},
   "outputs": [],
   "source": [
    "# Create splits for 100 shot learning\n",
    "create_splits(100)"
   ]
  },
  {
   "cell_type": "code",
   "execution_count": 3,
   "metadata": {},
   "outputs": [],
   "source": [
    "# Check number of samples per class\n",
    "path_splits = './splits.csv'\n",
    "df_csv = pd.read_csv(path_splits)\n",
    "[dict_train, dict_validate] = check_splits(df_csv)"
   ]
  },
  {
   "cell_type": "code",
   "execution_count": 4,
   "metadata": {},
   "outputs": [
    {
     "data": {
      "text/plain": [
       "{'Atelectasis': 2592,\n",
       " 'Cardiomegaly': 2850,\n",
       " 'Consolidation': 388,\n",
       " 'Edema': 1926,\n",
       " 'Enlarged Cardiomediastinum': 100,\n",
       " 'Fracture': 328,\n",
       " 'Lung Lesion': 100,\n",
       " 'Lung Opacity': 4327,\n",
       " 'No Finding': 16888,\n",
       " 'Pleural Effusion': 100,\n",
       " 'Pneumonia': 762,\n",
       " 'Pneumothorax': 823,\n",
       " 'Support Devices': 1860}"
      ]
     },
     "execution_count": 4,
     "metadata": {},
     "output_type": "execute_result"
    }
   ],
   "source": [
    "dict_train"
   ]
  },
  {
   "cell_type": "code",
   "execution_count": 5,
   "metadata": {},
   "outputs": [
    {
     "data": {
      "text/plain": [
       "{'Atelectasis': 648,\n",
       " 'Cardiomegaly': 712,\n",
       " 'Consolidation': 97,\n",
       " 'Edema': 481,\n",
       " 'Enlarged Cardiomediastinum': 300,\n",
       " 'Fracture': 82,\n",
       " 'Lung Lesion': 300,\n",
       " 'Lung Opacity': 1082,\n",
       " 'No Finding': 4222,\n",
       " 'Pleural Effusion': 300,\n",
       " 'Pneumonia': 190,\n",
       " 'Pneumothorax': 206,\n",
       " 'Support Devices': 465}"
      ]
     },
     "execution_count": 5,
     "metadata": {},
     "output_type": "execute_result"
    }
   ],
   "source": [
    "dict_validate"
   ]
  }
 ],
 "metadata": {
  "kernelspec": {
   "display_name": "Python 3",
   "language": "python",
   "name": "python3"
  },
  "language_info": {
   "codemirror_mode": {
    "name": "ipython",
    "version": 3
   },
   "file_extension": ".py",
   "mimetype": "text/x-python",
   "name": "python",
   "nbconvert_exporter": "python",
   "pygments_lexer": "ipython3",
   "version": "3.6.2"
  }
 },
 "nbformat": 4,
 "nbformat_minor": 1
}
