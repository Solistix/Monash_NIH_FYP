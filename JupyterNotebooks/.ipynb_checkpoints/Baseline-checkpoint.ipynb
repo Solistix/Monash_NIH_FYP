{
 "cells": [
  {
   "cell_type": "code",
   "execution_count": 1,
   "metadata": {},
   "outputs": [],
   "source": [
    "%reload_ext autoreload\n",
    "%autoreload 2\n",
    "%matplotlib inline"
   ]
  },
  {
   "cell_type": "code",
   "execution_count": 2,
   "metadata": {},
   "outputs": [],
   "source": [
    "from fastai import *\n",
    "from fastai.vision import *\n",
    "from pathlib import Path\n",
    "import os"
   ]
  },
  {
   "cell_type": "code",
   "execution_count": 3,
   "metadata": {},
   "outputs": [
    {
     "data": {
      "text/plain": [
       "ImageList (44061 items)\n",
       "Image (3, 2705, 2539),Image (3, 2906, 2258),Image (3, 3056, 2544),Image (3, 2544, 3056),Image (3, 3056, 2544)\n",
       "Path: ../../../../scratch/rl80/mimic-cxr-jpg-2.0.0.physionet.org/files"
      ]
     },
     "execution_count": 3,
     "metadata": {},
     "output_type": "execute_result"
    }
   ],
   "source": [
    "path_splits = '../splits/100_shot_split.csv'\n",
    "path_jpg = Path('../../../../scratch/rl80/mimic-cxr-jpg-2.0.0.physionet.org/files/')\n",
    "\n",
    "df = pd.read_csv(path_splits)\n",
    "data = ImageList.from_df(df, path_jpg)\n",
    "data"
   ]
  },
  {
   "cell_type": "code",
   "execution_count": 4,
   "metadata": {},
   "outputs": [
    {
     "data": {
      "text/plain": [
       "ImageDataBunch;\n",
       "\n",
       "Train: LabelList (1300 items)\n",
       "x: ImageList\n",
       "Image (3, 224, 224),Image (3, 224, 224),Image (3, 224, 224),Image (3, 224, 224),Image (3, 224, 224)\n",
       "y: MultiCategoryList\n",
       "Pleural Effusion,No Finding,Support Devices,Atelectasis,Pneumonia\n",
       "Path: ../../../../scratch/rl80/mimic-cxr-jpg-2.0.0.physionet.org/files;\n",
       "\n",
       "Valid: LabelList (3900 items)\n",
       "x: ImageList\n",
       "Image (3, 224, 224),Image (3, 224, 224),Image (3, 224, 224),Image (3, 224, 224),Image (3, 224, 224)\n",
       "y: MultiCategoryList\n",
       "Consolidation,Pneumonia,Pleural Effusion,Cardiomegaly,Pneumothorax\n",
       "Path: ../../../../scratch/rl80/mimic-cxr-jpg-2.0.0.physionet.org/files;\n",
       "\n",
       "Test: None"
      ]
     },
     "execution_count": 4,
     "metadata": {},
     "output_type": "execute_result"
    }
   ],
   "source": [
    "train_idx = df.index[df['split']=='train']\n",
    "valid_idx = df.index[df['split']=='validate']\n",
    "\n",
    "data = (ImageList.from_df(df, path_jpg)\n",
    "        .split_by_idxs(train_idx, valid_idx)\n",
    "        .label_from_df(label_delim=',')\n",
    "        .transform('', size=224)\n",
    "        .databunch(bs=16))\n",
    "data"
   ]
  },
  {
   "cell_type": "code",
   "execution_count": null,
   "metadata": {},
   "outputs": [],
   "source": []
  },
  {
   "cell_type": "code",
   "execution_count": null,
   "metadata": {},
   "outputs": [],
   "source": []
  }
 ],
 "metadata": {
  "kernelspec": {
   "display_name": "Python 3",
   "language": "python",
   "name": "python3"
  },
  "language_info": {
   "codemirror_mode": {
    "name": "ipython",
    "version": 3
   },
   "file_extension": ".py",
   "mimetype": "text/x-python",
   "name": "python",
   "nbconvert_exporter": "python",
   "pygments_lexer": "ipython3",
   "version": "3.6.2"
  }
 },
 "nbformat": 4,
 "nbformat_minor": 1
}
