{
 "cells": [
  {
   "cell_type": "code",
   "execution_count": 1,
   "metadata": {},
   "outputs": [],
   "source": [
    "%reload_ext autoreload\n",
    "%autoreload 2\n",
    "%matplotlib inline"
   ]
  },
  {
   "cell_type": "code",
   "execution_count": 5,
   "metadata": {},
   "outputs": [
    {
     "name": "stdout",
     "output_type": "stream",
     "text": [
      "[1] loss: 8.230454040812207\n"
     ]
    }
   ],
   "source": [
    "import torch.optim as optim\n",
    "from torch.utils.data import DataLoader\n",
    "import sys\n",
    "sys.path.append('..')\n",
    "from shared.models import *\n",
    "from shared.datasets import *\n",
    "\n",
    "num_epochs = 1\n",
    "num_workers = 8\n",
    "bs = 64\n",
    "n_way = 10\n",
    "torch.cuda.set_device(0)\n",
    "device = torch.device(\"cuda:0\" if torch.cuda.is_available() else \"cpu\")\n",
    "model = BaselineNet(n_way).to(device)\n",
    "criterion = nn.CrossEntropyLoss()\n",
    "optimizer = optim.Adam(model.parameters(), lr=0.0001)\n",
    "\n",
    "train_dataset = MimicCxrJpg(root='../../../../scratch/rl80/mimic-cxr-jpg-2.0.0.physionet.org/files/',\n",
    "                            csv_path='./splits.csv', mode='base_train', resize=224)\n",
    "test_dataset = MimicCxrJpg(root='../../../../scratch/rl80/mimic-cxr-jpg-2.0.0.physionet.org/files/',\n",
    "                            csv_path='./splits.csv', mode='base_validate', resize=224)\n",
    "train_loader = DataLoader(train_dataset, batch_size=bs, shuffle=True, num_workers=num_workers)\n",
    "test_loader = DataLoader(test_dataset, batch_size=bs, shuffle=True, num_workers=num_workers)\n",
    "\n",
    "for epoch in range(num_epochs):\n",
    "    model.train()\n",
    "    train_loss = 0\n",
    "    for k, (data_inputs, data_labels) in enumerate(train_loader):\n",
    "        \n",
    "        inputs, labels = data_inputs.to(device), data_labels.to(device)\n",
    "        # Set gradient to 0.\n",
    "        optimizer.zero_grad()\n",
    "        # Feed forward.\n",
    "        pred = model(inputs)\n",
    "        # Loss calculation.\n",
    "        loss = criterion(pred, labels)\n",
    "        # Gradient calculation.\n",
    "        loss.backward()\n",
    "        optimizer.step()\n",
    "\n",
    "        # print statistics\n",
    "        train_loss += loss.item()\n",
    "    \n",
    "    model.eval()\n",
    "    with torch.no_grad():\n",
    "        val_loss = 0\n",
    "        for k, (data_inputs, data_labels) in enumerate(test_loader):\n",
    "            inputs, labels = data_inputs.to(device), data_labels.to(device)\n",
    "            pred = model(inputs)\n",
    "            loss = criterion(pred, labels)\n",
    "            val_loss += loss.item()\n",
    "            \n",
    "    print(f'[{epoch+1}] loss: {train_loss/k}')"
   ]
  },
  {
   "cell_type": "code",
   "execution_count": 1,
   "metadata": {},
   "outputs": [
    {
     "ename": "SyntaxError",
     "evalue": "invalid syntax (<ipython-input-1-a6c726f51a75>, line 1)",
     "output_type": "error",
     "traceback": [
      "\u001b[0;36m  File \u001b[0;32m\"<ipython-input-1-a6c726f51a75>\"\u001b[0;36m, line \u001b[0;32m1\u001b[0m\n\u001b[0;31m    def train()\u001b[0m\n\u001b[0m               ^\u001b[0m\n\u001b[0;31mSyntaxError\u001b[0m\u001b[0;31m:\u001b[0m invalid syntax\n"
     ]
    }
   ],
   "source": [
    "def train(model, train_loader, criterion, device, optimizer):\n",
    "    model.train()\n",
    "    train_loss = 0\n",
    "    for k, (data_inputs, data_labels) in enumerate(train_loader):\n",
    "        \n",
    "        inputs, labels = data_inputs.to(device), data_labels.to(device)\n",
    "        # Set gradient to 0.\n",
    "        optimizer.zero_grad()\n",
    "        # Feed forward.\n",
    "        pred = model(inputs)\n",
    "        # Loss calculation.\n",
    "        loss = criterion(pred, labels)\n",
    "        # Gradient calculation.\n",
    "        loss.backward()\n",
    "        optimizer.step()\n",
    "\n",
    "        # print statistics\n",
    "        train_loss += loss.item()\n",
    "        \n",
    "    return train_loss\n",
    "\n",
    "def test(model, test_loader, criterion, device, n_way):\n",
    "    model.eval()\n",
    "    class_correct = list(0. for i in range(n_way))\n",
    "    class_total = list(0. for i in range(n_way))\n",
    "    val_loss = 0\n",
    "    with torch.no_grad():\n",
    "        for k, (data_inputs, data_labels) in enumerate(test_loader):\n",
    "            inputs, labels = data_inputs.to(device), data_labels.to(device)\n",
    "            pred = model(inputs)\n",
    "            \n",
    "            # Find validation loss\n",
    "            loss = criterion(pred, labels)\n",
    "            val_loss += loss.item()\n",
    "            \n",
    "            # Find number of correctly predicted samples per class\n",
    "            _, predicted = torch.max(pred, 1)\n",
    "            correct = (predicted == labels).squeeze()\n",
    "            \n",
    "            for i in range(len(predicted)):\n",
    "                label = labels[i]\n",
    "                class_correct[label] += correct[i].item()\n",
    "                class_total[label] += 1\n",
    "                \n",
    "        # Find average class accuracy, useful to train an unbiased base model\n",
    "        # Also doubles as accuracy for balanced class scenarios\n",
    "        total = 0\n",
    "        for j in range(n_way):\n",
    "            total += class_correct[j] / class_total[j]\n",
    "        accuracy = total/n_way\n",
    "        \n",
    "    return val_loss, accuracy"
   ]
  },
  {
   "cell_type": "code",
   "execution_count": 8,
   "metadata": {},
   "outputs": [
    {
     "data": {
      "text/plain": [
       "torch.Size([35, 10])"
      ]
     },
     "execution_count": 8,
     "metadata": {},
     "output_type": "execute_result"
    }
   ],
   "source": [
    "pred.size()"
   ]
  },
  {
   "cell_type": "code",
   "execution_count": 12,
   "metadata": {},
   "outputs": [],
   "source": [
    "_, predicted = torch.max(pred, 1)"
   ]
  },
  {
   "cell_type": "code",
   "execution_count": 11,
   "metadata": {},
   "outputs": [
    {
     "data": {
      "text/plain": [
       "tensor([5, 6, 6, 5, 6, 5, 6, 6, 5, 1, 6, 5, 5, 1, 6, 1, 6, 9, 6, 1, 6, 3, 1, 5,\n",
       "        1, 1, 5, 5, 9, 5, 6, 9, 5, 9, 5], device='cuda:0')"
      ]
     },
     "execution_count": 11,
     "metadata": {},
     "output_type": "execute_result"
    }
   ],
   "source": [
    "predicted"
   ]
  },
  {
   "cell_type": "code",
   "execution_count": 28,
   "metadata": {},
   "outputs": [],
   "source": [
    "correct = (predicted == labels).squeeze()\n",
    "for i in range(len(predicted)):\n",
    "    label = labels[i]\n",
    "    class_correct[label] += correct[i].item()\n",
    "    class_total[label] += 1"
   ]
  },
  {
   "cell_type": "code",
   "execution_count": 31,
   "metadata": {},
   "outputs": [
    {
     "ename": "TypeError",
     "evalue": "unsupported operand type(s) for /: 'list' and 'list'",
     "output_type": "error",
     "traceback": [
      "\u001b[0;31m---------------------------------------------------------------------------\u001b[0m",
      "\u001b[0;31mTypeError\u001b[0m                                 Traceback (most recent call last)",
      "\u001b[0;32m<ipython-input-31-357cdb4ce492>\u001b[0m in \u001b[0;36m<module>\u001b[0;34m()\u001b[0m\n\u001b[0;32m----> 1\u001b[0;31m \u001b[0mclass_correct\u001b[0m \u001b[0;34m/\u001b[0m \u001b[0mclass_total\u001b[0m\u001b[0;34m\u001b[0m\u001b[0m\n\u001b[0m",
      "\u001b[0;31mTypeError\u001b[0m: unsupported operand type(s) for /: 'list' and 'list'"
     ]
    }
   ],
   "source": [
    "class_correct / class_total"
   ]
  },
  {
   "cell_type": "code",
   "execution_count": 37,
   "metadata": {},
   "outputs": [
    {
     "name": "stdout",
     "output_type": "stream",
     "text": [
      "0.0\n",
      "0.6666666666666666\n",
      "0.0\n",
      "0.3333333333333333\n",
      "0.0\n",
      "0.2222222222222222\n",
      "0.14285714285714285\n",
      "0.0\n",
      "0.0\n",
      "0.5\n",
      "0.1865079365079365\n"
     ]
    }
   ],
   "source": [
    "total = 0\n",
    "for j in range(n_way):\n",
    "    total += class_correct[j] / class_total[j]\n",
    "accuracy = total/n_way"
   ]
  },
  {
   "cell_type": "code",
   "execution_count": 35,
   "metadata": {},
   "outputs": [
    {
     "data": {
      "text/plain": [
       "1.5"
      ]
     },
     "execution_count": 35,
     "metadata": {},
     "output_type": "execute_result"
    }
   ],
   "source": [
    "test = 0\n",
    "test += 1.5\n",
    "test"
   ]
  },
  {
   "cell_type": "code",
   "execution_count": 21,
   "metadata": {},
   "outputs": [
    {
     "data": {
      "text/plain": [
       "tensor([False,  True, False, False, False, False, False, False, False, False,\n",
       "        False,  True,  True, False, False, False, False, False, False,  True,\n",
       "        False,  True, False, False,  True, False, False, False,  True, False,\n",
       "        False,  True, False, False, False], device='cuda:0')"
      ]
     },
     "execution_count": 21,
     "metadata": {},
     "output_type": "execute_result"
    }
   ],
   "source": [
    "c"
   ]
  },
  {
   "cell_type": "code",
   "execution_count": null,
   "metadata": {},
   "outputs": [],
   "source": []
  }
 ],
 "metadata": {
  "kernelspec": {
   "display_name": "Python 3",
   "language": "python",
   "name": "python3"
  },
  "language_info": {
   "codemirror_mode": {
    "name": "ipython",
    "version": 3
   },
   "file_extension": ".py",
   "mimetype": "text/x-python",
   "name": "python",
   "nbconvert_exporter": "python",
   "pygments_lexer": "ipython3",
   "version": "3.6.2"
  }
 },
 "nbformat": 4,
 "nbformat_minor": 1
}
